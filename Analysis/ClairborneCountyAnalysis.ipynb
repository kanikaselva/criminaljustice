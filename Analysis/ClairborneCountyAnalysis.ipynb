{
 "cells": [
  {
   "cell_type": "markdown",
   "metadata": {},
   "source": [
    "## Clairborne County Analysis"
   ]
  },
  {
   "cell_type": "markdown",
   "metadata": {},
   "source": [
    "#### Import Libraries"
   ]
  },
  {
   "cell_type": "code",
   "execution_count": 19,
   "metadata": {},
   "outputs": [],
   "source": [
    "import pandas as pd\n",
    "import numpy as np\n",
    "import seaborn as sns\n",
    "%matplotlib inline \n",
    "import matplotlib.pyplot as plt"
   ]
  },
  {
   "cell_type": "markdown",
   "metadata": {},
   "source": [
    "#### Exploratory Data Analysis"
   ]
  },
  {
   "cell_type": "code",
   "execution_count": 20,
   "metadata": {},
   "outputs": [
    {
     "data": {
      "text/html": [
       "<div>\n",
       "<style scoped>\n",
       "    .dataframe tbody tr th:only-of-type {\n",
       "        vertical-align: middle;\n",
       "    }\n",
       "\n",
       "    .dataframe tbody tr th {\n",
       "        vertical-align: top;\n",
       "    }\n",
       "\n",
       "    .dataframe thead th {\n",
       "        text-align: right;\n",
       "    }\n",
       "</style>\n",
       "<table border=\"1\" class=\"dataframe\">\n",
       "  <thead>\n",
       "    <tr style=\"text-align: right;\">\n",
       "      <th></th>\n",
       "      <th>Race</th>\n",
       "      <th>Age</th>\n",
       "      <th>Gender</th>\n",
       "      <th>Education Level</th>\n",
       "      <th>Employment Status</th>\n",
       "      <th>Income Level</th>\n",
       "      <th>Prior Convictions</th>\n",
       "      <th>Risk Score</th>\n",
       "      <th>Judge Decision</th>\n",
       "      <th>Re-offense</th>\n",
       "    </tr>\n",
       "  </thead>\n",
       "  <tbody>\n",
       "    <tr>\n",
       "      <th>0</th>\n",
       "      <td>Black</td>\n",
       "      <td>62</td>\n",
       "      <td>Male</td>\n",
       "      <td>Bachelor's Degree</td>\n",
       "      <td>Employed</td>\n",
       "      <td>34165.969893</td>\n",
       "      <td>5</td>\n",
       "      <td>1.949816</td>\n",
       "      <td>1</td>\n",
       "      <td>0</td>\n",
       "    </tr>\n",
       "    <tr>\n",
       "      <th>1</th>\n",
       "      <td>Black</td>\n",
       "      <td>48</td>\n",
       "      <td>Male</td>\n",
       "      <td>Bachelor's Degree</td>\n",
       "      <td>Employed</td>\n",
       "      <td>73102.340993</td>\n",
       "      <td>3</td>\n",
       "      <td>7.631000</td>\n",
       "      <td>0</td>\n",
       "      <td>0</td>\n",
       "    </tr>\n",
       "    <tr>\n",
       "      <th>2</th>\n",
       "      <td>Black</td>\n",
       "      <td>44</td>\n",
       "      <td>Male</td>\n",
       "      <td>High School</td>\n",
       "      <td>Unemployed</td>\n",
       "      <td>78046.909354</td>\n",
       "      <td>2</td>\n",
       "      <td>6.278393</td>\n",
       "      <td>1</td>\n",
       "      <td>0</td>\n",
       "    </tr>\n",
       "    <tr>\n",
       "      <th>3</th>\n",
       "      <td>Black</td>\n",
       "      <td>63</td>\n",
       "      <td>Female</td>\n",
       "      <td>Bachelor's Degree</td>\n",
       "      <td>Employed</td>\n",
       "      <td>121869.327498</td>\n",
       "      <td>1</td>\n",
       "      <td>5.098658</td>\n",
       "      <td>0</td>\n",
       "      <td>0</td>\n",
       "    </tr>\n",
       "    <tr>\n",
       "      <th>4</th>\n",
       "      <td>Black</td>\n",
       "      <td>53</td>\n",
       "      <td>Female</td>\n",
       "      <td>Bachelor's Degree</td>\n",
       "      <td>Employed</td>\n",
       "      <td>73289.622946</td>\n",
       "      <td>2</td>\n",
       "      <td>3.724815</td>\n",
       "      <td>1</td>\n",
       "      <td>0</td>\n",
       "    </tr>\n",
       "  </tbody>\n",
       "</table>\n",
       "</div>"
      ],
      "text/plain": [
       "    Race  Age  Gender    Education Level Employment Status   Income Level  \\\n",
       "0  Black   62    Male  Bachelor's Degree          Employed   34165.969893   \n",
       "1  Black   48    Male  Bachelor's Degree          Employed   73102.340993   \n",
       "2  Black   44    Male        High School        Unemployed   78046.909354   \n",
       "3  Black   63  Female  Bachelor's Degree          Employed  121869.327498   \n",
       "4  Black   53  Female  Bachelor's Degree          Employed   73289.622946   \n",
       "\n",
       "   Prior Convictions  Risk Score  Judge Decision  Re-offense  \n",
       "0                  5    1.949816               1           0  \n",
       "1                  3    7.631000               0           0  \n",
       "2                  2    6.278393               1           0  \n",
       "3                  1    5.098658               0           0  \n",
       "4                  2    3.724815               1           0  "
      ]
     },
     "execution_count": 20,
     "metadata": {},
     "output_type": "execute_result"
    }
   ],
   "source": [
    "clairborne_df = pd.read_csv('../Data/Claiborne_county_synthetic_data.csv', usecols = [\"Race\", \"Age\", \"Gender\", \"Education Level\", \"Employment Status\", \"Income Level\", \"Prior Convictions\", \"Risk Score\", \"Judge Decision\", \"Re-offense\"], index_col=False)\n",
    "\n",
    "# Display the first few rows of the dataframe\n",
    "# This will help us understand the structure of the data and what columns are available for analysis\n",
    "clairborne_df.head()"
   ]
  },
  {
   "cell_type": "code",
   "execution_count": 21,
   "metadata": {},
   "outputs": [
    {
     "data": {
      "text/plain": [
       "Race                  object\n",
       "Age                    int64\n",
       "Gender                object\n",
       "Education Level       object\n",
       "Employment Status     object\n",
       "Income Level         float64\n",
       "Prior Convictions      int64\n",
       "Risk Score           float64\n",
       "Judge Decision         int64\n",
       "Re-offense             int64\n",
       "dtype: object"
      ]
     },
     "execution_count": 21,
     "metadata": {},
     "output_type": "execute_result"
    }
   ],
   "source": [
    "# Display the data types of each column\n",
    "# This will help us understand the types of data we are working with\n",
    "# and if any conversions are needed\n",
    "clairborne_df.dtypes"
   ]
  },
  {
   "cell_type": "code",
   "execution_count": 22,
   "metadata": {},
   "outputs": [
    {
     "data": {
      "text/html": [
       "<div>\n",
       "<style scoped>\n",
       "    .dataframe tbody tr th:only-of-type {\n",
       "        vertical-align: middle;\n",
       "    }\n",
       "\n",
       "    .dataframe tbody tr th {\n",
       "        vertical-align: top;\n",
       "    }\n",
       "\n",
       "    .dataframe thead th {\n",
       "        text-align: right;\n",
       "    }\n",
       "</style>\n",
       "<table border=\"1\" class=\"dataframe\">\n",
       "  <thead>\n",
       "    <tr style=\"text-align: right;\">\n",
       "      <th></th>\n",
       "      <th>Age</th>\n",
       "      <th>Income Level</th>\n",
       "      <th>Prior Convictions</th>\n",
       "      <th>Risk Score</th>\n",
       "      <th>Judge Decision</th>\n",
       "      <th>Re-offense</th>\n",
       "    </tr>\n",
       "  </thead>\n",
       "  <tbody>\n",
       "    <tr>\n",
       "      <th>count</th>\n",
       "      <td>1000.000000</td>\n",
       "      <td>1000.000000</td>\n",
       "      <td>1000.000000</td>\n",
       "      <td>1000.000000</td>\n",
       "      <td>1000.000000</td>\n",
       "      <td>1000.000000</td>\n",
       "    </tr>\n",
       "    <tr>\n",
       "      <th>mean</th>\n",
       "      <td>46.948000</td>\n",
       "      <td>46103.676532</td>\n",
       "      <td>1.690000</td>\n",
       "      <td>5.750037</td>\n",
       "      <td>0.370000</td>\n",
       "      <td>0.336000</td>\n",
       "    </tr>\n",
       "    <tr>\n",
       "      <th>std</th>\n",
       "      <td>16.525144</td>\n",
       "      <td>33270.924362</td>\n",
       "      <td>1.327276</td>\n",
       "      <td>2.074684</td>\n",
       "      <td>0.483046</td>\n",
       "      <td>0.472575</td>\n",
       "    </tr>\n",
       "    <tr>\n",
       "      <th>min</th>\n",
       "      <td>18.000000</td>\n",
       "      <td>14252.030439</td>\n",
       "      <td>0.000000</td>\n",
       "      <td>0.902431</td>\n",
       "      <td>0.000000</td>\n",
       "      <td>0.000000</td>\n",
       "    </tr>\n",
       "    <tr>\n",
       "      <th>25%</th>\n",
       "      <td>33.000000</td>\n",
       "      <td>15437.337260</td>\n",
       "      <td>1.000000</td>\n",
       "      <td>4.198450</td>\n",
       "      <td>0.000000</td>\n",
       "      <td>0.000000</td>\n",
       "    </tr>\n",
       "    <tr>\n",
       "      <th>50%</th>\n",
       "      <td>47.000000</td>\n",
       "      <td>35059.753290</td>\n",
       "      <td>2.000000</td>\n",
       "      <td>5.735148</td>\n",
       "      <td>0.000000</td>\n",
       "      <td>0.000000</td>\n",
       "    </tr>\n",
       "    <tr>\n",
       "      <th>75%</th>\n",
       "      <td>61.000000</td>\n",
       "      <td>73698.938376</td>\n",
       "      <td>2.000000</td>\n",
       "      <td>7.277075</td>\n",
       "      <td>1.000000</td>\n",
       "      <td>1.000000</td>\n",
       "    </tr>\n",
       "    <tr>\n",
       "      <th>max</th>\n",
       "      <td>75.000000</td>\n",
       "      <td>130966.348850</td>\n",
       "      <td>6.000000</td>\n",
       "      <td>10.973774</td>\n",
       "      <td>1.000000</td>\n",
       "      <td>1.000000</td>\n",
       "    </tr>\n",
       "  </tbody>\n",
       "</table>\n",
       "</div>"
      ],
      "text/plain": [
       "               Age   Income Level  Prior Convictions   Risk Score  \\\n",
       "count  1000.000000    1000.000000        1000.000000  1000.000000   \n",
       "mean     46.948000   46103.676532           1.690000     5.750037   \n",
       "std      16.525144   33270.924362           1.327276     2.074684   \n",
       "min      18.000000   14252.030439           0.000000     0.902431   \n",
       "25%      33.000000   15437.337260           1.000000     4.198450   \n",
       "50%      47.000000   35059.753290           2.000000     5.735148   \n",
       "75%      61.000000   73698.938376           2.000000     7.277075   \n",
       "max      75.000000  130966.348850           6.000000    10.973774   \n",
       "\n",
       "       Judge Decision   Re-offense  \n",
       "count     1000.000000  1000.000000  \n",
       "mean         0.370000     0.336000  \n",
       "std          0.483046     0.472575  \n",
       "min          0.000000     0.000000  \n",
       "25%          0.000000     0.000000  \n",
       "50%          0.000000     0.000000  \n",
       "75%          1.000000     1.000000  \n",
       "max          1.000000     1.000000  "
      ]
     },
     "execution_count": 22,
     "metadata": {},
     "output_type": "execute_result"
    }
   ],
   "source": [
    "# Display the summary statistics of the dataframe\n",
    "# This will provide insights into the distribution of numerical columns and help identify any potential outliers\n",
    "clairborne_df.describe()"
   ]
  },
  {
   "cell_type": "code",
   "execution_count": 23,
   "metadata": {},
   "outputs": [
    {
     "data": {
      "text/plain": [
       "Race                 0\n",
       "Age                  0\n",
       "Gender               0\n",
       "Education Level      0\n",
       "Employment Status    0\n",
       "Income Level         0\n",
       "Prior Convictions    0\n",
       "Risk Score           0\n",
       "Judge Decision       0\n",
       "Re-offense           0\n",
       "dtype: int64"
      ]
     },
     "execution_count": 23,
     "metadata": {},
     "output_type": "execute_result"
    }
   ],
   "source": [
    "# Display the number of missing values in each column\n",
    "# This will help us identify if any data cleaning is needed before analysis \n",
    "# No missing values identified\n",
    "clairborne_df.isnull().sum()"
   ]
  },
  {
   "cell_type": "markdown",
   "metadata": {},
   "source": [
    "#### Demographic Profiles"
   ]
  },
  {
   "cell_type": "code",
   "execution_count": null,
   "metadata": {},
   "outputs": [
    {
     "name": "stderr",
     "output_type": "stream",
     "text": [
      "/var/folders/h6/93p_2snd3bl3v008snqlzq7m0000gn/T/ipykernel_15592/3442363977.py:3: FutureWarning: \n",
      "\n",
      "Passing `palette` without assigning `hue` is deprecated and will be removed in v0.14.0. Assign the `x` variable to `hue` and set `legend=False` for the same effect.\n",
      "\n",
      "  sns.barplot(x=race_counts.index, y=race_counts.values, palette=\"viridis\")\n"
     ]
    },
    {
     "data": {
      "image/png": "[encoded data removed]",
      "text/plain": [
       "<Figure size 640x480 with 1 Axes>"
      ]
     },
     "metadata": {},
     "output_type": "display_data"
    }
   ],
   "source": [
    "# Distribution of the Race Column\n",
    "race_counts = clairborne_df['Race'].value_counts()\n",
    "sns.barplot(x=race_counts.index, y=race_counts.values, palette=\"viridis\")\n",
    "plt.title('Distribution of Races')\n",
    "plt.xlabel (\"Races\")\n",
    "plt.ylabel (\"Count\")\n",
    "plt.show()"
   ]
  },
  {
   "cell_type": "code",
   "execution_count": 29,
   "metadata": {},
   "outputs": [
    {
     "name": "stderr",
     "output_type": "stream",
     "text": [
      "/var/folders/h6/93p_2snd3bl3v008snqlzq7m0000gn/T/ipykernel_15592/4162998845.py:3: FutureWarning: \n",
      "\n",
      "Passing `palette` without assigning `hue` is deprecated and will be removed in v0.14.0. Assign the `x` variable to `hue` and set `legend=False` for the same effect.\n",
      "\n",
      "  sns.barplot(x=gender_counts.index, y=gender_counts.values, palette=\"viridis\")\n"
     ]
    },
    {
     "data": {
      "image/png": "[encoded data removed]",
      "text/plain": [
       "<Figure size 640x480 with 1 Axes>"
      ]
     },
     "metadata": {},
     "output_type": "display_data"
    }
   ],
   "source": [
    "# Distribution of the Gender Column\n",
    "gender_counts = clairborne_df['Gender'].value_counts()\n",
    "sns.barplot(x=gender_counts.index, y=gender_counts.values, palette=\"viridis\")\n",
    "plt.title('Distribution of Gender')\n",
    "plt.xlabel (\"Gender\")\n",
    "plt.ylabel (\"Count\")\n",
    "plt.show()"
   ]
  },
  {
   "cell_type": "code",
   "execution_count": 34,
   "metadata": {},
   "outputs": [
    {
     "name": "stderr",
     "output_type": "stream",
     "text": [
      "/var/folders/h6/93p_2snd3bl3v008snqlzq7m0000gn/T/ipykernel_15592/2332269445.py:5: FutureWarning: \n",
      "\n",
      "Passing `palette` without assigning `hue` is deprecated and will be removed in v0.14.0. Assign the `x` variable to `hue` and set `legend=False` for the same effect.\n",
      "\n",
      "  sns.barplot(x=education_counts.index, y=education_counts.values, palette=\"viridis\")\n"
     ]
    },
    {
     "data": {
      "image/png": "[encoded data removed]",
      "text/plain": [
       "<Figure size 1200x500 with 1 Axes>"
      ]
     },
     "metadata": {},
     "output_type": "display_data"
    }
   ],
   "source": [
    "# Distribution of the Education Level Column\n",
    "plt.figure(figsize=(12, 5))\n",
    "\n",
    "education_counts = clairborne_df['Education Level'].value_counts()\n",
    "sns.barplot(x=education_counts.index, y=education_counts.values, palette=\"viridis\")\n",
    "plt.title('Distribution of Education Level')\n",
    "plt.xlabel (\"Education Level\")\n",
    "plt.ylabel (\"Count\")\n",
    "plt.show()"
   ]
  }
 ],
 "metadata": {
  "kernelspec": {
   "display_name": "new",
   "language": "python",
   "name": "python3"
  },
  "language_info": {
   "codemirror_mode": {
    "name": "ipython",
    "version": 3
   },
   "file_extension": ".py",
   "mimetype": "text/x-python",
   "name": "python",
   "nbconvert_exporter": "python",
   "pygments_lexer": "ipython3",
   "version": "3.12.8"
  }
 },
 "nbformat": 4,
 "nbformat_minor": 2
}
